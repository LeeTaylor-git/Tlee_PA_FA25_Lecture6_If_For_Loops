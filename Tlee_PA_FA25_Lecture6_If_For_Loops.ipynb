{
  "nbformat": 4,
  "nbformat_minor": 0,
  "metadata": {
    "colab": {
      "provenance": [],
      "include_colab_link": true
    },
    "kernelspec": {
      "name": "python3",
      "display_name": "Python 3"
    },
    "language_info": {
      "name": "python"
    }
  },
  "cells": [
    {
      "cell_type": "markdown",
      "metadata": {
        "id": "view-in-github",
        "colab_type": "text"
      },
      "source": [
        "<a href=\"https://colab.research.google.com/github/LeeTaylor-git/Tlee_PA_FA25_Lecture6_If_For_Loops/blob/main/Tlee_PA_FA25_Lecture6_If_For_Loops.ipynb\" target=\"_parent\"><img src=\"https://colab.research.google.com/assets/colab-badge.svg\" alt=\"Open In Colab\"/></a>"
      ]
    },
    {
      "cell_type": "code",
      "source": [
        "# Run this code cell to prepare for the next code cell\n",
        "# Define lists\n",
        "list_of_colors = [\"red\", \"orange\", \"green\", \"red\", \"yellow\"]\n",
        "list_of_soup_flavors = [\"chicken noodle soup\", \"onion soup\", \"green pea soup\", \"chili beef soup\", \"vegetable soup\"]\n",
        "# Recall we wrote a function to draw cans and write soup names\n",
        "def draw_colored_can_and_write_name(can_color, soup_name):\n",
        "  print(\"I drew a \" + can_color + \" soup can\")\n",
        "  print(\"I wrote \\\"\" + soup_name + \"\\\" on the can\")\n",
        "#draw_colored_can_and_write_name() #test code"
      ],
      "metadata": {
        "id": "FfLpKalHOFPt"
      },
      "execution_count": 2,
      "outputs": []
    },
    {
      "cell_type": "markdown",
      "source": [
        "**Discussion: Is the code snippet below efficient or not? Why?**\n",
        "\n",
        "**Practice 1: How would you change the code above?**\n",
        "\n",
        "**Hint: Think about functions.**"
      ],
      "metadata": {
        "id": "Y1XHxq9SGwDM"
      }
    },
    {
      "cell_type": "code",
      "source": [
        "# Use if inside if statements (nested if)\n",
        "# Notice the identations\n",
        "if len(list_of_soup_flavors) >= 5:\n",
        "  print(\"I have many soup options\")\n",
        "  if \"chicken noodle soup\" in list_of_soup_flavors:\n",
        "    print(\"And my favorite soup is here\")\n",
        "  else:\n",
        "    print(\"But my favorite soup isn't here\")\n",
        "else:\n",
        "  print(\"I don't have many soup choices\")\n",
        "  if \"chicken noodle soup\" in list_of_soup_flavors:\n",
        "    print(\"And my favorite soup is here\")\n",
        "  else:\n",
        "    print(\"But my favorite soup isn't here\")"
      ],
      "metadata": {
        "id": "aVye328iFEA-",
        "outputId": "56c26c2c-48ad-46c3-f293-844cb7e01f40",
        "colab": {
          "base_uri": "https://localhost:8080/"
        }
      },
      "execution_count": null,
      "outputs": [
        {
          "output_type": "stream",
          "name": "stdout",
          "text": [
            "I have many soup options\n",
            "And my favorite soup is here\n"
          ]
        }
      ]
    }
  ]
}