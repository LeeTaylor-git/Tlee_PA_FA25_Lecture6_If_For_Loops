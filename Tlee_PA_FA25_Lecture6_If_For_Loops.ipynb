{
  "nbformat": 4,
  "nbformat_minor": 0,
  "metadata": {
    "colab": {
      "provenance": [],
      "include_colab_link": true
    },
    "kernelspec": {
      "name": "python3",
      "display_name": "Python 3"
    },
    "language_info": {
      "name": "python"
    }
  },
  "cells": [
    {
      "cell_type": "markdown",
      "metadata": {
        "id": "view-in-github",
        "colab_type": "text"
      },
      "source": [
        "<a href=\"https://colab.research.google.com/github/LeeTaylor-git/Tlee_PA_FA25_Lecture6_If_For_Loops/blob/main/Tlee_PA_FA25_Lecture6_If_For_Loops.ipynb\" target=\"_parent\"><img src=\"https://colab.research.google.com/assets/colab-badge.svg\" alt=\"Open In Colab\"/></a>"
      ]
    },
    {
      "cell_type": "code",
      "source": [
        "# Run this code cell to prepare for the next code cell\n",
        "# Define lists\n",
        "list_of_colors = [\"red\", \"orange\", \"green\", \"red\", \"yellow\"]\n",
        "list_of_soup_flavors = [\"chicken noodle soup\", \"onion soup\", \"green pea soup\", \"chili beef soup\", \"vegetable soup\"]\n",
        "# Recall we wrote a function to draw cans and write soup names\n",
        "def draw_colored_can_and_write_name(can_color, soup_name):\n",
        "  print(\"I drew a \" + can_color + \" soup can\")\n",
        "  print(\"I wrote \\\"\" + soup_name + \"\\\" on the can\")"
      ],
      "metadata": {
        "id": "FfLpKalHOFPt"
      },
      "execution_count": 8,
      "outputs": []
    },
    {
      "cell_type": "markdown",
      "source": [
        "**Discussion: Is the code snippet below efficient or not? Why?**\n",
        "\n",
        "*This code below is not efficient because it check if chicken noodle soup is present in multiple if-else blocks.*\n",
        "\n",
        "**Practice 1: How would you change the code above?** *Below?*\n",
        "\n",
        "**Hint: Think about functions.**"
      ],
      "metadata": {
        "id": "Y1XHxq9SGwDM"
      }
    },
    {
      "cell_type": "code",
      "source": [
        "# Use if inside if statements (nested if)\n",
        "# Notice the identations\n",
        "if len(list_of_soup_flavors) >= 5:\n",
        "  print(\"I have many soup options\")\n",
        "  if \"chicken noodle soup\" in list_of_soup_flavors:\n",
        "    print(\"And my favorite soup is here\")\n",
        "  else:\n",
        "    print(\"But my favorite soup isn't here\")\n",
        "else:\n",
        "  print(\"I don't have many soup choices\")\n",
        "  if \"chicken noodle soup\" in list_of_soup_flavors:\n",
        "    print(\"And my favorite soup is here\")\n",
        "  else:\n",
        "    print(\"But my favorite soup isn't here\")"
      ],
      "metadata": {
        "id": "aVye328iFEA-"
      },
      "execution_count": null,
      "outputs": []
    },
    {
      "cell_type": "code",
      "source": [
        "# My change to the code:\n",
        "\n",
        "def is_fav_soup_present(soup_list, fav_soup):\n",
        "  if len(soup_list) >= 5:\n",
        "    print(\"I have many soup options\")\n",
        "  else:\n",
        "    print(\"I don't have many soup choices\")\n",
        "\n",
        "  if fav_soup in soup_list:\n",
        "    print(\"And my favorite soup is here\")\n",
        "  else:\n",
        "    print(\"But my favorite soup isn't here\")\n",
        "\n",
        "is_fav_soup_present(soup_list = list_of_soup_flavors, fav_soup = 'chicken noodle soup')"
      ],
      "metadata": {
        "id": "9cjEgI6K-Rtn"
      },
      "execution_count": null,
      "outputs": []
    }
  ]
}